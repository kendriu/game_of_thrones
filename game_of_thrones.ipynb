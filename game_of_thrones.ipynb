{
 "metadata": {
  "name": "",
  "signature": "sha256:4d5bf9c29e071aec5b39a9595b54ce222e6bd52f0c94f64871f2cb8c1e3da8a1"
 },
 "nbformat": 3,
 "nbformat_minor": 0,
 "worksheets": [
  {
   "cells": [
    {
     "cell_type": "code",
     "collapsed": false,
     "input": [],
     "language": "python",
     "metadata": {},
     "outputs": []
    }
   ],
   "metadata": {}
  }
 ]
}