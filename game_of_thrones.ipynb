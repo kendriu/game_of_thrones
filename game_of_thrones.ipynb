{
 "metadata": {
  "name": "",
  "signature": "sha256:c0dd66faa1986d7045f2f7e63e558e169137b285fa9672b2006066015ebab6d7"
 },
 "nbformat": 3,
 "nbformat_minor": 0,
 "worksheets": [
  {
   "cells": [
    {
     "cell_type": "code",
     "collapsed": false,
     "input": [
      "class SomeClass(object):\n",
      "    pass\n",
      "\n",
      "obj = SomeClass()\n",
      "print (type(obj))\n",
      "\n",
      "print (obj.__class__)"
     ],
     "language": "python",
     "metadata": {},
     "outputs": [
      {
       "output_type": "stream",
       "stream": "stdout",
       "text": [
        "<class '__main__.SomeClass'>\n",
        "<class '__main__.SomeClass'>\n"
       ]
      }
     ],
     "prompt_number": 7
    }
   ],
   "metadata": {}
  }
 ]
}