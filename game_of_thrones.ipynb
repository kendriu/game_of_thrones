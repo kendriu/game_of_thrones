{
 "metadata": {
  "name": "",
  "signature": "sha256:3cd12ebb839f71062db07df14180f12a1e6aab9834e86c4e8922e5cc29e22784"
 },
 "nbformat": 3,
 "nbformat_minor": 0,
 "worksheets": [
  {
   "cells": [
    {
     "cell_type": "code",
     "collapsed": false,
     "input": [
      "class SomeClass(object):\n",
      "    pass\n",
      "\n",
      "obj = SomeClass()\n",
      "print type(obj)\n",
      "\n",
      "print obj.__class__"
     ],
     "language": "python",
     "metadata": {},
     "outputs": [
      {
       "output_type": "stream",
       "stream": "stdout",
       "text": [
        "<class '__main__.SomeClass'>\n",
        "<class '__main__.SomeClass'>\n"
       ]
      }
     ],
     "prompt_number": 5
    }
   ],
   "metadata": {}
  }
 ]
}